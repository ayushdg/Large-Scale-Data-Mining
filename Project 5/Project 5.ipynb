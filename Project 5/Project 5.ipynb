{
 "cells": [
  {
   "cell_type": "code",
   "execution_count": 3,
   "metadata": {},
   "outputs": [],
   "source": [
    "import json\n",
    "import gzip\n",
    "import tarfile\n",
    "import numpy as np\n",
    "import datetime, time\n",
    "import pytz\n",
    "import pickle"
   ]
  },
  {
   "cell_type": "code",
   "execution_count": 9,
   "metadata": {},
   "outputs": [],
   "source": [
    "load_data = True\n",
    "\n",
    "if not load_data:\n",
    "    \n",
    "    tar = tarfile.open(\"data/tweet_data.tar.gz\", \"r:gz\")\n",
    "    \n",
    "    avgFollowers = {}\n",
    "    tweetTimes = {}\n",
    "    avgRetweets = {}\n",
    "\n",
    "    pst_tz = pytz.timezone('US/Pacific')\n",
    "    \n",
    "    for member in tar.getmembers():\n",
    "        f = tar.extractfile(member)\n",
    "        followerData = []\n",
    "        timeData = []\n",
    "        retweetData = []\n",
    "        for line in f.readlines():\n",
    "            entry = json.loads(line)\n",
    "            #Follower Data\n",
    "            followerData.append(entry['author']['followers'])\n",
    "            #Tweet time Data\n",
    "            citation = entry['citation_date']\n",
    "            timeData.append(datetime.datetime.fromtimestamp(citation, pst_tz))\n",
    "            #Retweet Data\n",
    "            retweetData.append(entry['metrics']['citations']['total'])\n",
    "        \n",
    "        avgFollowers[member.name] = (sum(followerData) / len (followerData))\n",
    "        avgRetweets[member.name] =  (sum(retweetData) / len(retweetData))\n",
    "        tweetTimes[member.name] = timeData\n",
    "        \n",
    "        f.close()\n",
    "    \n",
    "    tar.close()\n",
    "    \n",
    "    with open('data/train/part1/part_1_1_data.pkl' , 'wb') as file:\n",
    "        pickle.dump([avgFollowers, tweetTimes, avgRetweets] , file)\n",
    "    \n",
    "else:\n",
    "    with open('data/train/part1/part_1_1_data.pkl' , 'rb') as file:\n",
    "        [avgFollowers, tweetTimes, avgRetweets] = pickle.load(file)\n",
    "    "
   ]
  },
  {
   "cell_type": "code",
   "execution_count": 10,
   "metadata": {},
   "outputs": [
    {
     "data": {
      "text/plain": [
       "{'tweets_#gohawks.txt': 2203.931767444827,\n",
       " 'tweets_#gopatriots.txt': 1401.8955093016164,\n",
       " 'tweets_#nfl.txt': 4653.252285502502,\n",
       " 'tweets_#patriots.txt': 3309.978828415827,\n",
       " 'tweets_#sb49.txt': 10267.31684948685,\n",
       " 'tweets_#superbowl.txt': 8858.974662784603}"
      ]
     },
     "execution_count": 10,
     "metadata": {},
     "output_type": "execute_result"
    }
   ],
   "source": [
    "avgFollowers"
   ]
  },
  {
   "cell_type": "code",
   "execution_count": null,
   "metadata": {},
   "outputs": [],
   "source": []
  }
 ],
 "metadata": {
  "kernelspec": {
   "display_name": "Python 3",
   "language": "python",
   "name": "python3"
  }
 },
 "nbformat": 4,
 "nbformat_minor": 2
}
